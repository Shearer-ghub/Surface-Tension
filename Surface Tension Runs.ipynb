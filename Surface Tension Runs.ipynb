{
 "cells": [
  {
   "cell_type": "code",
   "execution_count": 1,
   "metadata": {},
   "outputs": [],
   "source": [
    "import numpy as np\n",
    "import matplotlib.pyplot as plt\n",
    "%matplotlib inline\n",
    "from scipy import stats\n",
    "from scipy.optimize import curve_fit\n",
    "from scipy import odr\n",
    "import glob\n",
    "import os"
   ]
  },
  {
   "cell_type": "code",
   "execution_count": 2,
   "metadata": {},
   "outputs": [],
   "source": [
    "X1 = [0.013,0.014,0.0145,0.015,0.016,0.0175,0.019,0.02,0.021,0.0225,0.024,0.025,0.026,0.0265,0.0275,0.0285,0.03,0.031,0.0315]\n",
    "X2 = np.array([0.013,0.015,0.0155,0.016,0.016,0.016,0.017,0.018,0.019,0.02,0.02,0.021,0.022,0.022])\n",
    "X3 = np.array([0.0165,0.018,0.0195,0.022,0.022,0.023,0.0235,0.0245,0.0255,0.027,0.0285,0.03,0.031,0.032,0.0335,0.036])\n",
    "X4 = np.array([0.016,0.017,0.018,0.0185,0.0195,0.02,0.02,0.021,0.022,0.023,0.024,0.0245,0.0245,0.0255,0.0255,0.026,0.027,0.0275,0.028,0.0285,0.029,0.03,0.0305,0.031,0.0315,0.032,0.033,0.0335,0.034,0.0355,0.036,0.0375,0.0385,0.0395,0.0405,0.0415,0.0425])\n"
   ]
  },
  {
   "cell_type": "code",
   "execution_count": 3,
   "metadata": {},
   "outputs": [],
   "source": [
    "hz_water1 = np.array([50, 60, 65, 70, 80, 90, 100, 110, 120, 130, 140, 150, 160, 170, 180, 190, 200, 210, 220])\n",
    "hz_water2 = np.array([70, 80, 90, 95, 100, 105, 110, 120, 130, 140, 150, 160, 170, 180])\n",
    "hz_water3 = np.array([60, 70, 80, 90, 95, 100, 105, 110, 120, 130, 140, 150, 160, 170, 180, 190])\n",
    "hz_water4 = np.array([140, 150, 160, 170, 180, 190, 200, 210, 220, 230, 240, 250, 260, 270, 280, 290, 300, 310, 320, 330, 340, 350, 360, 370, 380, 390, 400, 420,440,460,480,500,520,540,560,580,600])"
   ]
  },
  {
   "cell_type": "code",
   "execution_count": 4,
   "metadata": {
    "scrolled": true
   },
   "outputs": [
    {
     "name": "stdout",
     "output_type": "stream",
     "text": [
      "Surface Tension of water is 4.280561678851273 +- 1.3506455085631646 mN/M\n",
      "Surface Tension of water is 0.19129602152500805 +- 0.1618244167513832 mN/M\n",
      "Surface Tension of water is 6.775395418758352 +- 2.4253414901312027 mN/M\n",
      "Surface Tension of water is 37.08251508769528 +- 5.301059308673836 mN/M\n"
     ]
    },
    {
     "data": {
      "image/png": "[encoded data removed]",
      "text/plain": [
       "<Figure size 432x288 with 1 Axes>"
      ]
     },
     "metadata": {
      "needs_background": "light"
     },
     "output_type": "display_data"
    }
   ],
   "source": [
    "dens = [998,998,998,998]\n",
    "cols = ['r','b','g','k']\n",
    "sols = [1,1,1,1]\n",
    "hzs = [hz_water1, hz_water2, hz_water3, hz_water4]\n",
    "X = [X1,X2,X3,X4]\n",
    "\n",
    "#plt.figure(figsize = (20,11))\n",
    "plt.grid()\n",
    "\n",
    "for hzs, X, sols,c,p in zip(hzs, X, sols, cols,dens):\n",
    "    #Laser wavelength, distance of the 0th order image above water, and the distance between the screen and laser\n",
    "    laz = 632.8e-9\n",
    "    x = 0.0492\n",
    "    y = 0.4838\n",
    "    theta = np.arcsin( x / np.sqrt( (x**2)+(y**2))  )\n",
    "    l = 4.838\n",
    "    x1 = 1*np.tan(theta)\n",
    "    k = []\n",
    "    for i in X:\n",
    "        h = x1 + i \n",
    "        j = 2*i\n",
    "        m = ( np.pi*h*j ) / ( laz*((h**2)+l**2) )\n",
    "        k.append(m)\n",
    "    #logs of the values for the lnk lnw relation\n",
    "    lnk = np.log(k)\n",
    "    w = 2 * hzs * np.pi\n",
    "    lnw = np.log(w)\n",
    "    \n",
    "    #all code below follows a propogation of errors following pm the smallest decimal of each data point i.e 0.0005\n",
    "    xerr = yerr = 0.0005\n",
    "    dfdx =  y / ( (x**2) + (y**2) )\n",
    "    dfdy = -x / ( (x**2) + (y**2) )\n",
    "    theterr = np.sqrt( (dfdx**2) * (xerr**2) + (dfdy**2) * (yerr**2) )\n",
    "    \n",
    "    Xx1 = l*np.tan(theta)\n",
    "    lerr = 0.0005\n",
    "    dfdl = np.tan(theta)\n",
    "    dfdt = 1 / (np.cos(theta)**2)\n",
    "    Xerr = np.sqrt ( (dfdl**2) * (lerr**2) + (dfdt**2) * (theterr**2) )\n",
    "    \n",
    "    lnkerr = []\n",
    "    dfdl = - ( (2*l) / ( (h**2) + (l**2)) )\n",
    "    dfdh = - ( (h**2) - (l**2) ) / ( (h**3) + h*(l**2) )\n",
    "    \n",
    "    for i in X:\n",
    "        d = 2*i\n",
    "        derr = 0.0005\n",
    "        h = Xx1 + d/2\n",
    "        dhdx = 1\n",
    "        dhdd = 1/2\n",
    "        herr = np.sqrt( (dhdx**2) * (Xerr**2) + (dhdd**2) * (derr**2) )\n",
    "        dfdd = 1/d\n",
    "        \n",
    "        lnkerrv = np.sqrt( (dfdh**2) * (herr**2) + (dfdd**2) * (derr**2) + (dfdl**2) * (lerr**2) )\n",
    "        lnkerr.append(lnkerrv)\n",
    "        \n",
    "    lnwerr = []\n",
    "    for i in hzs:\n",
    "        lnwerrv = np.sqrt( ( (1/i)**2) * ( (0.5)**2) )\n",
    "        lnwerr.append(lnwerrv)\n",
    "    \n",
    "    #Errors of lnk and lnw   \n",
    "    plt.errorbar(lnk, lnw, lnwerr, lnkerr, '.', markersize = 5, linewidth = 1, color = c)\n",
    "    \n",
    "    def func(p, x):\n",
    "        m, c = p\n",
    "        return m*x + c \n",
    "    \n",
    "    data = odr.RealData( lnk, lnw, sx = lnkerr, sy = lnwerr)\n",
    "    lin = odr.Model(func)\n",
    "    odr1 = odr.ODR(data, lin, beta0 = [1, -5])\n",
    "    out = odr1.run()\n",
    "    \n",
    "    errsurf = np.sqrt(((2*p*np.exp( 2*( out.beta[1]) ) )**2) * ( (out.sd_beta[1])**2) )\n",
    "    \n",
    "    y = out.beta[0] * lnk + out.beta[1]\n",
    "    plt.plot(lnk,y,linewidth=1,color=c)\n",
    "    plt.title('Logarithm of frequency and wavenumber at 20C')\n",
    "    plt.xlabel('Ln(k)')\n",
    "    plt.ylabel('Ln(w)')\n",
    "    \n",
    "    \n",
    "    \n",
    "    surf = p*np.exp(2*out.beta[1])\n",
    "    print('Surface Tension of water is',surf,'+-',errsurf, 'mN/M')\n",
    "    \n",
    "plt.savefig('Surface tension runs')"
   ]
  },
  {
   "cell_type": "code",
   "execution_count": null,
   "metadata": {},
   "outputs": [],
   "source": []
  }
 ],
 "metadata": {
  "kernelspec": {
   "display_name": "Python 3",
   "language": "python",
   "name": "python3"
  },
  "language_info": {
   "codemirror_mode": {
    "name": "ipython",
    "version": 3
   },
   "file_extension": ".py",
   "mimetype": "text/x-python",
   "name": "python",
   "nbconvert_exporter": "python",
   "pygments_lexer": "ipython3",
   "version": "3.7.1"
  }
 },
 "nbformat": 4,
 "nbformat_minor": 4
}
